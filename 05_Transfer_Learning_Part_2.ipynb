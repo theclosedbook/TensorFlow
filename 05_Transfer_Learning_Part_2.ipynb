{
  "nbformat": 4,
  "nbformat_minor": 0,
  "metadata": {
    "colab": {
      "provenance": [],
      "gpuType": "T4",
      "authorship_tag": "ABX9TyOBA7Wb6gPSSjufGRV9Djnz",
      "include_colab_link": true
    },
    "kernelspec": {
      "name": "python3",
      "display_name": "Python 3"
    },
    "language_info": {
      "name": "python"
    },
    "accelerator": "GPU"
  },
  "cells": [
    {
      "cell_type": "markdown",
      "metadata": {
        "id": "view-in-github",
        "colab_type": "text"
      },
      "source": [
        "<a href=\"https://colab.research.google.com/github/theclosedbook/TensorFlow/blob/main/05_Transfer_Learning_Part_2.ipynb\" target=\"_parent\"><img src=\"https://colab.research.google.com/assets/colab-badge.svg\" alt=\"Open In Colab\"/></a>"
      ]
    },
    {
      "cell_type": "markdown",
      "source": [
        "# Transfer Learning with TensorFlow Part 2: Fine-Tuning\n",
        "In Previous notebook, we covered transfer learning feature extraction, now it's time to learn about a new kind of transfer learning: Fine-Tuning"
      ],
      "metadata": {
        "id": "tukT7v4f0q6J"
      }
    },
    {
      "cell_type": "code",
      "source": [
        "!nvidia-smi"
      ],
      "metadata": {
        "colab": {
          "base_uri": "https://localhost:8080/"
        },
        "id": "o5744LBg2XOm",
        "outputId": "851fafcb-fe81-48b2-95ad-3eb0bb1ce4bd"
      },
      "execution_count": 2,
      "outputs": [
        {
          "output_type": "stream",
          "name": "stdout",
          "text": [
            "Mon Feb 19 19:32:53 2024       \n",
            "+---------------------------------------------------------------------------------------+\n",
            "| NVIDIA-SMI 535.104.05             Driver Version: 535.104.05   CUDA Version: 12.2     |\n",
            "|-----------------------------------------+----------------------+----------------------+\n",
            "| GPU  Name                 Persistence-M | Bus-Id        Disp.A | Volatile Uncorr. ECC |\n",
            "| Fan  Temp   Perf          Pwr:Usage/Cap |         Memory-Usage | GPU-Util  Compute M. |\n",
            "|                                         |                      |               MIG M. |\n",
            "|=========================================+======================+======================|\n",
            "|   0  Tesla T4                       Off | 00000000:00:04.0 Off |                    0 |\n",
            "| N/A   46C    P8               9W /  70W |      0MiB / 15360MiB |      0%      Default |\n",
            "|                                         |                      |                  N/A |\n",
            "+-----------------------------------------+----------------------+----------------------+\n",
            "                                                                                         \n",
            "+---------------------------------------------------------------------------------------+\n",
            "| Processes:                                                                            |\n",
            "|  GPU   GI   CI        PID   Type   Process name                            GPU Memory |\n",
            "|        ID   ID                                                             Usage      |\n",
            "|=======================================================================================|\n",
            "|  No running processes found                                                           |\n",
            "+---------------------------------------------------------------------------------------+\n"
          ]
        }
      ]
    },
    {
      "cell_type": "markdown",
      "source": [
        "### Creating Helper functions\n",
        "\n",
        "In previous notebooks, we've created a bunch of helper functions.\n",
        "\n",
        "So it's a good idea to put functions you'll want to use again in a script you can download and import into your notebooks(or elsewhere).\n",
        "\n"
      ],
      "metadata": {
        "id": "6VeriWq02xUX"
      }
    },
    {
      "cell_type": "code",
      "source": [
        "!wget https://raw.githubusercontent.com/mrdbourke/tensorflow-deep-learning/main/extras/helper_functions.py"
      ],
      "metadata": {
        "colab": {
          "base_uri": "https://localhost:8080/"
        },
        "id": "m348n6U13PDA",
        "outputId": "5757ae89-6787-401e-d303-57f42869105b"
      },
      "execution_count": 4,
      "outputs": [
        {
          "output_type": "stream",
          "name": "stdout",
          "text": [
            "--2024-02-19 19:34:47--  https://raw.githubusercontent.com/mrdbourke/tensorflow-deep-learning/main/extras/helper_functions.py\n",
            "Resolving raw.githubusercontent.com (raw.githubusercontent.com)... 185.199.108.133, 185.199.109.133, 185.199.110.133, ...\n",
            "Connecting to raw.githubusercontent.com (raw.githubusercontent.com)|185.199.108.133|:443... connected.\n",
            "HTTP request sent, awaiting response... 200 OK\n",
            "Length: 10246 (10K) [text/plain]\n",
            "Saving to: ‘helper_functions.py’\n",
            "\n",
            "\rhelper_functions.py   0%[                    ]       0  --.-KB/s               \rhelper_functions.py 100%[===================>]  10.01K  --.-KB/s    in 0s      \n",
            "\n",
            "2024-02-19 19:34:47 (118 MB/s) - ‘helper_functions.py’ saved [10246/10246]\n",
            "\n"
          ]
        }
      ]
    },
    {
      "cell_type": "code",
      "source": [
        "# Import helper functions we're going to use in this notebook\n",
        "from helper_functions import create_tensorboard_callback,plot_loss_curves,unzip_data,walk_through_dir"
      ],
      "metadata": {
        "id": "GHBEvGMP3RlG"
      },
      "execution_count": 5,
      "outputs": []
    },
    {
      "cell_type": "markdown",
      "source": [
        "### Let's Get some data\n",
        "\n",
        "This time we're going to see how we can use the pretrained models within `tf.keras.application` and apply\n",
        "them to our own problems (recognizing images of food)"
      ],
      "metadata": {
        "id": "2W-EJgqZ4Hv9"
      }
    },
    {
      "cell_type": "code",
      "source": [
        "# Get 10% of the training data\n",
        "!wget https://storage.googleapis.com/ztm_tf_course/food_vision/10_food_classes_10_percent.zip\n",
        "unzip_data(\"10_food_classes_10_percent.zip\")"
      ],
      "metadata": {
        "colab": {
          "base_uri": "https://localhost:8080/"
        },
        "id": "G-mZ0qpZ4wF_",
        "outputId": "35cbd8be-91d2-4fd6-ff18-b44b1d939b8a"
      },
      "execution_count": 8,
      "outputs": [
        {
          "output_type": "stream",
          "name": "stdout",
          "text": [
            "--2024-02-19 19:43:10--  https://storage.googleapis.com/ztm_tf_course/food_vision/10_food_classes_10_percent.zip\n",
            "Resolving storage.googleapis.com (storage.googleapis.com)... 74.125.130.207, 74.125.68.207, 64.233.170.207, ...\n",
            "Connecting to storage.googleapis.com (storage.googleapis.com)|74.125.130.207|:443... connected.\n",
            "HTTP request sent, awaiting response... 200 OK\n",
            "Length: 168546183 (161M) [application/zip]\n",
            "Saving to: ‘10_food_classes_10_percent.zip.2’\n",
            "\n",
            "10_food_classes_10_ 100%[===================>] 160.74M  22.4MB/s    in 8.4s    \n",
            "\n",
            "2024-02-19 19:43:18 (19.2 MB/s) - ‘10_food_classes_10_percent.zip.2’ saved [168546183/168546183]\n",
            "\n"
          ]
        }
      ]
    },
    {
      "cell_type": "code",
      "source": [
        "# Check out how many images and subdirecteries are in our dataset\n",
        "walk_through_dir(\"10_food_classes_10_percent\")"
      ],
      "metadata": {
        "colab": {
          "base_uri": "https://localhost:8080/"
        },
        "id": "bYPFCcEA4-H6",
        "outputId": "4d46789e-e934-4823-9ee6-db3a7828e842"
      },
      "execution_count": 17,
      "outputs": [
        {
          "output_type": "stream",
          "name": "stdout",
          "text": [
            "There are 2 directories and 0 images in '10_food_classes_10_percent'.\n",
            "There are 10 directories and 0 images in '10_food_classes_10_percent/test'.\n",
            "There are 0 directories and 250 images in '10_food_classes_10_percent/test/ramen'.\n",
            "There are 0 directories and 250 images in '10_food_classes_10_percent/test/grilled_salmon'.\n",
            "There are 0 directories and 250 images in '10_food_classes_10_percent/test/chicken_curry'.\n",
            "There are 0 directories and 250 images in '10_food_classes_10_percent/test/steak'.\n",
            "There are 0 directories and 250 images in '10_food_classes_10_percent/test/chicken_wings'.\n",
            "There are 0 directories and 250 images in '10_food_classes_10_percent/test/sushi'.\n",
            "There are 0 directories and 250 images in '10_food_classes_10_percent/test/pizza'.\n",
            "There are 0 directories and 250 images in '10_food_classes_10_percent/test/hamburger'.\n",
            "There are 0 directories and 250 images in '10_food_classes_10_percent/test/fried_rice'.\n",
            "There are 0 directories and 250 images in '10_food_classes_10_percent/test/ice_cream'.\n",
            "There are 10 directories and 0 images in '10_food_classes_10_percent/train'.\n",
            "There are 0 directories and 75 images in '10_food_classes_10_percent/train/ramen'.\n",
            "There are 0 directories and 75 images in '10_food_classes_10_percent/train/grilled_salmon'.\n",
            "There are 0 directories and 75 images in '10_food_classes_10_percent/train/chicken_curry'.\n",
            "There are 0 directories and 75 images in '10_food_classes_10_percent/train/steak'.\n",
            "There are 0 directories and 75 images in '10_food_classes_10_percent/train/chicken_wings'.\n",
            "There are 0 directories and 75 images in '10_food_classes_10_percent/train/sushi'.\n",
            "There are 0 directories and 75 images in '10_food_classes_10_percent/train/pizza'.\n",
            "There are 0 directories and 75 images in '10_food_classes_10_percent/train/hamburger'.\n",
            "There are 0 directories and 75 images in '10_food_classes_10_percent/train/fried_rice'.\n",
            "There are 0 directories and 75 images in '10_food_classes_10_percent/train/ice_cream'.\n"
          ]
        }
      ]
    },
    {
      "cell_type": "code",
      "source": [
        "# Create training and testing directory paths\n",
        "train_dir = \"10_food_classes_10_percent/train/\"\n",
        "test_dir = \"10_food_classes_10_percent/test/\""
      ],
      "metadata": {
        "id": "2u8gbfn55ebO"
      },
      "execution_count": 21,
      "outputs": []
    },
    {
      "cell_type": "code",
      "source": [
        "import tensorflow as tf\n",
        "IMG_SIZE=(224,224)\n",
        "BATCH_SIZE=32\n",
        "train_data_10_percent = tf.keras.preprocessing.image_dataset_from_directory(directory=train_dir,\n",
        "                                                                            image_size = IMG_SIZE,\n",
        "                                                                            label_mode=\"categorical\",\n",
        "                                                                            batch_size=BATCH_SIZE)\n",
        "test_data_10_percent = tf.keras.preprocessing.image_dataset_from_directory(directory=test_dir,\n",
        "                                                                           image_size=IMG_SIZE,\n",
        "                                                                           label_mode=\"categorical\",\n",
        "                                                                           batch_size=BATCH_SIZE)"
      ],
      "metadata": {
        "colab": {
          "base_uri": "https://localhost:8080/"
        },
        "id": "yVObhIHd5mx9",
        "outputId": "fca104b9-57c0-4ed9-9f4c-713705cb3d53"
      },
      "execution_count": 22,
      "outputs": [
        {
          "output_type": "stream",
          "name": "stdout",
          "text": [
            "Found 750 files belonging to 10 classes.\n",
            "Found 2500 files belonging to 10 classes.\n"
          ]
        }
      ]
    },
    {
      "cell_type": "code",
      "source": [
        "train_data_10_percent"
      ],
      "metadata": {
        "colab": {
          "base_uri": "https://localhost:8080/"
        },
        "id": "2RcfSSla6s59",
        "outputId": "92944d2d-2e24-4943-b6e5-37c9a3acd81a"
      },
      "execution_count": 23,
      "outputs": [
        {
          "output_type": "execute_result",
          "data": {
            "text/plain": [
              "<_PrefetchDataset element_spec=(TensorSpec(shape=(None, 224, 224, 3), dtype=tf.float32, name=None), TensorSpec(shape=(None, 10), dtype=tf.float32, name=None))>"
            ]
          },
          "metadata": {},
          "execution_count": 23
        }
      ]
    },
    {
      "cell_type": "code",
      "source": [
        "train_data_10_percent.class_names"
      ],
      "metadata": {
        "colab": {
          "base_uri": "https://localhost:8080/"
        },
        "id": "e0O55JoP7kmP",
        "outputId": "567f76dc-7fd3-4764-d73e-ff1967241c37"
      },
      "execution_count": 24,
      "outputs": [
        {
          "output_type": "execute_result",
          "data": {
            "text/plain": [
              "['chicken_curry',\n",
              " 'chicken_wings',\n",
              " 'fried_rice',\n",
              " 'grilled_salmon',\n",
              " 'hamburger',\n",
              " 'ice_cream',\n",
              " 'pizza',\n",
              " 'ramen',\n",
              " 'steak',\n",
              " 'sushi']"
            ]
          },
          "metadata": {},
          "execution_count": 24
        }
      ]
    },
    {
      "cell_type": "code",
      "source": [
        "for images,labels in train_data_10_percent.take(1):\n",
        "  print(images,labels)"
      ],
      "metadata": {
        "colab": {
          "base_uri": "https://localhost:8080/"
        },
        "id": "Qq4WaVk0782v",
        "outputId": "0322bcb8-e2b9-4204-bbdb-68e9c2cf5188"
      },
      "execution_count": 25,
      "outputs": [
        {
          "output_type": "stream",
          "name": "stdout",
          "text": [
            "tf.Tensor(\n",
            "[[[[4.3000000e+01 3.1000000e+01 1.8285715e+01]\n",
            "   [4.6714287e+01 3.4714287e+01 2.2714285e+01]\n",
            "   [4.2704079e+01 3.1132652e+01 1.9132652e+01]\n",
            "   ...\n",
            "   [2.5414288e+02 2.5314288e+02 2.2471436e+02]\n",
            "   [2.5492856e+02 2.5292856e+02 2.2792856e+02]\n",
            "   [2.5264282e+02 2.5064282e+02 2.2564282e+02]]\n",
            "\n",
            "  [[3.7188774e+01 2.4188774e+01 1.5188775e+01]\n",
            "   [3.6423470e+01 2.3423468e+01 1.4423468e+01]\n",
            "   [4.1428574e+01 2.9071428e+01 1.9857141e+01]\n",
            "   ...\n",
            "   [2.5285716e+02 2.5185716e+02 2.2342863e+02]\n",
            "   [2.5299998e+02 2.5099998e+02 2.2599998e+02]\n",
            "   [2.5164282e+02 2.4964282e+02 2.2464282e+02]]\n",
            "\n",
            "  [[3.7780613e+01 2.4704081e+01 1.7923470e+01]\n",
            "   [3.4270405e+01 2.1270409e+01 1.3698979e+01]\n",
            "   [3.6382652e+01 2.3290817e+01 1.5765306e+01]\n",
            "   ...\n",
            "   [2.5238263e+02 2.5138263e+02 2.2116835e+02]\n",
            "   [2.5200000e+02 2.5100000e+02 2.2257143e+02]\n",
            "   [2.5200000e+02 2.5100000e+02 2.2257143e+02]]\n",
            "\n",
            "  ...\n",
            "\n",
            "  [[2.4049495e+02 2.0849495e+02 1.7028069e+02]\n",
            "   [2.3434184e+02 2.0234184e+02 1.6412758e+02]\n",
            "   [2.2157138e+02 1.9004587e+02 1.5178569e+02]\n",
            "   ...\n",
            "   [2.6908182e+01 1.5403117e+01 1.3234762e+01]\n",
            "   [2.8714172e+01 1.7071381e+01 1.4857117e+01]\n",
            "   [2.8357147e+01 1.6714355e+01 1.4500092e+01]]\n",
            "\n",
            "  [[2.3507141e+02 2.0207141e+02 1.6707141e+02]\n",
            "   [2.2606633e+02 1.9306633e+02 1.5806633e+02]\n",
            "   [2.2808679e+02 1.9572966e+02 1.6051537e+02]\n",
            "   ...\n",
            "   [2.9214325e+01 1.9000061e+01 1.7000061e+01]\n",
            "   [2.7795883e+01 1.7795883e+01 1.6795883e+01]\n",
            "   [2.2637712e+01 1.2637712e+01 1.1637712e+01]]\n",
            "\n",
            "  [[2.3627550e+02 2.0327550e+02 1.7027550e+02]\n",
            "   [2.3047963e+02 1.9747963e+02 1.6447963e+02]\n",
            "   [2.3301515e+02 2.0065800e+02 1.6744373e+02]\n",
            "   ...\n",
            "   [2.4147911e+01 1.4147911e+01 1.2933647e+01]\n",
            "   [2.5505079e+01 1.5505080e+01 1.4505080e+01]\n",
            "   [2.4285645e+01 1.6285645e+01 1.4285645e+01]]]\n",
            "\n",
            "\n",
            " [[[9.0000000e+00 5.0000000e+00 6.0000000e+00]\n",
            "   [8.6428576e+00 4.6428571e+00 5.6428571e+00]\n",
            "   [9.7806120e+00 5.7806125e+00 6.7806125e+00]\n",
            "   ...\n",
            "   [1.0000000e+01 8.0000000e+00 1.3000000e+01]\n",
            "   [8.3571424e+00 6.3571429e+00 9.3571424e+00]\n",
            "   [7.3571429e+00 5.3571429e+00 8.3571424e+00]]\n",
            "\n",
            "  [[9.0000000e+00 5.0000000e+00 6.0000000e+00]\n",
            "   [9.9285717e+00 5.9285717e+00 6.9285717e+00]\n",
            "   [1.1285714e+01 7.2857141e+00 8.2857141e+00]\n",
            "   ...\n",
            "   [8.3418159e+00 6.3418159e+00 1.1341816e+01]\n",
            "   [6.9285583e+00 4.9285583e+00 7.9285583e+00]\n",
            "   [5.6428223e+00 3.6428223e+00 6.6428223e+00]]\n",
            "\n",
            "  [[8.7857141e+00 4.7857141e+00 5.7857141e+00]\n",
            "   [8.0000000e+00 4.0000000e+00 5.0000000e+00]\n",
            "   [8.3826532e+00 4.3826532e+00 5.3826532e+00]\n",
            "   ...\n",
            "   [7.2142859e+00 5.2142859e+00 1.0214286e+01]\n",
            "   [7.2704186e+00 5.2704186e+00 8.2704182e+00]\n",
            "   [8.0000000e+00 6.0000000e+00 9.0000000e+00]]\n",
            "\n",
            "  ...\n",
            "\n",
            "  [[2.4714176e+01 1.6714176e+01 3.9714176e+01]\n",
            "   [2.4754930e+01 1.6754930e+01 3.9754929e+01]\n",
            "   [2.4433470e+01 1.6433470e+01 3.9433472e+01]\n",
            "   ...\n",
            "   [3.8316450e+00 3.8316450e+00 5.8316450e+00]\n",
            "   [2.9846926e+00 2.9846926e+00 4.9846926e+00]\n",
            "   [2.7857361e+00 2.7857361e+00 4.7857361e+00]]\n",
            "\n",
            "  [[2.9785610e+01 2.4785610e+01 4.6785610e+01]\n",
            "   [3.1285624e+01 2.6285624e+01 4.8285622e+01]\n",
            "   [3.5326447e+01 3.0326445e+01 5.2326447e+01]\n",
            "   ...\n",
            "   [3.9285583e+00 3.9285583e+00 5.9285583e+00]\n",
            "   [4.0000000e+00 4.0000000e+00 6.0000000e+00]\n",
            "   [4.0000000e+00 4.0000000e+00 6.0000000e+00]]\n",
            "\n",
            "  [[3.0729858e+01 2.5729858e+01 4.7729858e+01]\n",
            "   [3.2076748e+01 2.7076748e+01 4.9076748e+01]\n",
            "   [3.1438860e+01 2.6438860e+01 4.8438858e+01]\n",
            "   ...\n",
            "   [2.0000000e+00 2.0000000e+00 4.0000000e+00]\n",
            "   [3.0000000e+00 3.0000000e+00 5.0000000e+00]\n",
            "   [3.6428223e+00 3.6428223e+00 5.6428223e+00]]]\n",
            "\n",
            "\n",
            " [[[4.1030613e+01 4.3030613e+01 4.2030613e+01]\n",
            "   [4.1020409e+01 4.3020409e+01 4.2020409e+01]\n",
            "   [3.9142857e+01 4.1142857e+01 4.0142857e+01]\n",
            "   ...\n",
            "   [7.5153023e+01 7.6153023e+01 7.8153023e+01]\n",
            "   [6.6637688e+01 6.5637688e+01 7.0637688e+01]\n",
            "   [5.6015190e+01 5.5015190e+01 6.0015190e+01]]\n",
            "\n",
            "  [[4.3096939e+01 4.5096939e+01 4.4096939e+01]\n",
            "   [4.1933674e+01 4.3933674e+01 4.2933674e+01]\n",
            "   [4.0857143e+01 4.2857143e+01 4.1857143e+01]\n",
            "   ...\n",
            "   [8.3785736e+01 8.5000000e+01 8.6357208e+01]\n",
            "   [8.4714264e+01 8.4714264e+01 8.6714264e+01]\n",
            "   [8.1403023e+01 8.1403023e+01 8.3403023e+01]]\n",
            "\n",
            "  [[4.3505100e+01 4.5505100e+01 4.4505100e+01]\n",
            "   [4.4571426e+01 4.6571426e+01 4.5571426e+01]\n",
            "   [4.1617344e+01 4.3234695e+01 4.3382652e+01]\n",
            "   ...\n",
            "   [7.9617386e+01 8.0045914e+01 8.1066376e+01]\n",
            "   [8.0785713e+01 8.0785713e+01 8.2357140e+01]\n",
            "   [8.0785713e+01 8.0785713e+01 8.2357140e+01]]\n",
            "\n",
            "  ...\n",
            "\n",
            "  [[3.4000000e+01 2.5214264e+01 2.5571472e+01]\n",
            "   [3.4000000e+01 2.5214264e+01 2.5571472e+01]\n",
            "   [3.3954063e+01 2.5596922e+01 2.6382637e+01]\n",
            "   ...\n",
            "   [1.8807132e+02 1.8707132e+02 1.9507132e+02]\n",
            "   [1.8762749e+02 1.8662749e+02 1.9462749e+02]\n",
            "   [1.8627547e+02 1.8527547e+02 1.9327547e+02]]\n",
            "\n",
            "  [[3.5000000e+01 2.6000000e+01 2.7000000e+01]\n",
            "   [3.5000000e+01 2.6000000e+01 2.7000000e+01]\n",
            "   [3.5571426e+01 2.7214287e+01 2.8000000e+01]\n",
            "   ...\n",
            "   [1.8441322e+02 1.8441322e+02 1.9241322e+02]\n",
            "   [1.8414288e+02 1.8414288e+02 1.9214288e+02]\n",
            "   [1.8504593e+02 1.8504593e+02 1.9304593e+02]]\n",
            "\n",
            "  [[3.4000000e+01 2.5000000e+01 2.6000000e+01]\n",
            "   [3.4642822e+01 2.5642822e+01 2.6642822e+01]\n",
            "   [3.4290787e+01 2.5933647e+01 2.6719360e+01]\n",
            "   ...\n",
            "   [1.8856645e+02 1.8856645e+02 1.9656645e+02]\n",
            "   [1.9083182e+02 1.9083182e+02 1.9883182e+02]\n",
            "   [1.9007153e+02 1.9007153e+02 1.9807153e+02]]]\n",
            "\n",
            "\n",
            " ...\n",
            "\n",
            "\n",
            " [[[2.3230103e+02 2.2530103e+02 2.1730103e+02]\n",
            "   [2.3414795e+02 2.3014795e+02 2.1914795e+02]\n",
            "   [2.3486736e+02 2.3286736e+02 2.1943878e+02]\n",
            "   ...\n",
            "   [2.3471431e+02 2.3664795e+02 2.2691833e+02]\n",
            "   [2.3628572e+02 2.3728572e+02 2.2314284e+02]\n",
            "   [2.3905614e+02 2.3764290e+02 2.2088261e+02]]\n",
            "\n",
            "  [[2.3359694e+02 2.2959694e+02 2.1859694e+02]\n",
            "   [2.4107143e+02 2.3707143e+02 2.2607143e+02]\n",
            "   [2.3884183e+02 2.3684183e+02 2.2384183e+02]\n",
            "   ...\n",
            "   [2.3800000e+02 2.3998470e+02 2.2903061e+02]\n",
            "   [2.3800510e+02 2.3801019e+02 2.2772446e+02]\n",
            "   [2.3673976e+02 2.3747452e+02 2.2494897e+02]]\n",
            "\n",
            "  [[2.3373470e+02 2.3173470e+02 2.1830612e+02]\n",
            "   [2.4138266e+02 2.3781123e+02 2.2559694e+02]\n",
            "   [2.3800511e+02 2.3472450e+02 2.2347958e+02]\n",
            "   ...\n",
            "   [2.3942853e+02 2.3900000e+02 2.2857147e+02]\n",
            "   [2.3801530e+02 2.3901530e+02 2.3104593e+02]\n",
            "   [2.3693364e+02 2.3971936e+02 2.3314793e+02]]\n",
            "\n",
            "  ...\n",
            "\n",
            "  [[2.3670917e+02 2.3449490e+02 2.1906638e+02]\n",
            "   [2.4119896e+02 2.3919896e+02 2.2616835e+02]\n",
            "   [2.4129080e+02 2.4133672e+02 2.3176529e+02]\n",
            "   ...\n",
            "   [2.3695409e+02 2.3700000e+02 2.2709181e+02]\n",
            "   [2.3892856e+02 2.3892856e+02 2.2892856e+02]\n",
            "   [2.4021941e+02 2.3979088e+02 2.2936235e+02]]\n",
            "\n",
            "  [[2.3783162e+02 2.3883162e+02 2.2483162e+02]\n",
            "   [2.4020920e+02 2.3820920e+02 2.2520920e+02]\n",
            "   [2.3922963e+02 2.3700005e+02 2.2564290e+02]\n",
            "   ...\n",
            "   [2.3812752e+02 2.3812752e+02 2.2769899e+02]\n",
            "   [2.3815309e+02 2.3815309e+02 2.2815309e+02]\n",
            "   [2.3647446e+02 2.3647446e+02 2.2647446e+02]]\n",
            "\n",
            "  [[2.3385710e+02 2.3485710e+02 2.2085710e+02]\n",
            "   [2.4083664e+02 2.4004591e+02 2.2664282e+02]\n",
            "   [2.4399486e+02 2.3935201e+02 2.2856628e+02]\n",
            "   ...\n",
            "   [2.3843367e+02 2.3800514e+02 2.2757661e+02]\n",
            "   [2.4021432e+02 2.4021432e+02 2.3021432e+02]\n",
            "   [2.3772935e+02 2.3872935e+02 2.3072935e+02]]]\n",
            "\n",
            "\n",
            " [[[1.6290178e+01 6.2901783e+00 5.2901783e+00]\n",
            "   [1.4285714e+01 4.2857141e+00 3.2857144e+00]\n",
            "   [1.5049108e+01 5.0491076e+00 4.0491076e+00]\n",
            "   ...\n",
            "   [2.4267185e+01 1.8267185e+01 2.0740452e+01]\n",
            "   [2.2074589e+01 1.6074589e+01 2.0074589e+01]\n",
            "   [1.9529331e+01 1.5529331e+01 1.6529331e+01]]\n",
            "\n",
            "  [[1.4046237e+01 4.0462370e+00 3.0462370e+00]\n",
            "   [1.4000000e+01 4.0000000e+00 3.0000000e+00]\n",
            "   [1.5526786e+01 5.5267859e+00 4.5267859e+00]\n",
            "   ...\n",
            "   [2.9581259e+01 2.3581259e+01 2.5581259e+01]\n",
            "   [2.6048744e+01 2.0048744e+01 2.2048744e+01]\n",
            "   [2.3163567e+01 1.7163567e+01 1.9163567e+01]]\n",
            "\n",
            "  [[1.5865752e+01 5.8657517e+00 4.6514659e+00]\n",
            "   [1.5369578e+01 5.3695788e+00 4.1552930e+00]\n",
            "   [1.6334822e+01 6.3348212e+00 5.1205354e+00]\n",
            "   ...\n",
            "   [3.2575813e+01 2.3361530e+01 2.5932957e+01]\n",
            "   [2.7998034e+01 1.8783749e+01 1.9874912e+01]\n",
            "   [2.5856804e+01 1.6214287e+01 1.7012424e+01]]\n",
            "\n",
            "  ...\n",
            "\n",
            "  [[1.7155663e+01 1.4155663e+01 9.1556625e+00]\n",
            "   [1.6896362e+01 1.1896363e+01 7.8963633e+00]\n",
            "   [1.6577482e+01 7.9240851e+00 4.9601684e+00]\n",
            "   ...\n",
            "   [9.9012901e+01 4.4584373e+01 9.1705017e+00]\n",
            "   [9.8680084e+01 4.3511402e+01 1.1921263e+01]\n",
            "   [9.5057983e+01 4.0138397e+01 1.1986968e+01]]\n",
            "\n",
            "  [[1.4622126e+01 1.1622126e+01 6.6221251e+00]\n",
            "   [1.2946111e+01 7.9461102e+00 3.9461102e+00]\n",
            "   [1.5125013e+01 6.3080487e+00 3.8348346e+00]\n",
            "   ...\n",
            "   [9.0587738e+01 4.4510899e+01 1.2929114e+01]\n",
            "   [9.1570358e+01 4.4784679e+01 1.8740095e+01]\n",
            "   [8.4604141e+01 3.6818462e+01 1.3910957e+01]]\n",
            "\n",
            "  [[1.2937465e+01 8.9374647e+00 5.9374652e+00]\n",
            "   [1.1700858e+01 6.7008581e+00 2.7008581e+00]\n",
            "   [1.6459787e+01 7.6428223e+00 5.1696081e+00]\n",
            "   ...\n",
            "   [7.6361145e+01 3.4990982e+01 1.0123997e+01]\n",
            "   [7.3869354e+01 3.2226532e+01 1.0151947e+01]\n",
            "   [7.6639214e+01 3.4353569e+01 1.5710749e+01]]]\n",
            "\n",
            "\n",
            " [[[1.0000000e+00 1.0000000e+00 1.0000000e+00]\n",
            "   [1.0000000e+00 1.0000000e+00 1.0000000e+00]\n",
            "   [1.0000000e+00 1.0000000e+00 1.0000000e+00]\n",
            "   ...\n",
            "   [7.1991339e+00 2.9184482e+00 7.8316932e+00]\n",
            "   [2.3791447e+01 1.5459818e+01 6.5413079e+00]\n",
            "   [1.0485693e+02 9.3856934e+01 6.4428223e+01]]\n",
            "\n",
            "  [[1.0000000e+00 1.0000000e+00 1.0000000e+00]\n",
            "   [1.0000000e+00 1.0000000e+00 1.0000000e+00]\n",
            "   [1.0000000e+00 1.0000000e+00 1.0000000e+00]\n",
            "   ...\n",
            "   [3.0000000e+00 2.1426392e-01 8.8766468e-01]\n",
            "   [6.5107613e+01 5.5184128e+01 4.2673820e+01]\n",
            "   [1.0528053e+02 9.4280533e+01 6.4851822e+01]]\n",
            "\n",
            "  [[1.0000000e+00 1.0000000e+00 1.0000000e+00]\n",
            "   [1.0000000e+00 1.0000000e+00 1.0000000e+00]\n",
            "   [1.0000000e+00 1.0000000e+00 1.0000000e+00]\n",
            "   ...\n",
            "   [8.8267317e+00 4.2093015e+00 1.0102328e+00]\n",
            "   [9.2933861e+01 8.1132835e+01 6.4275612e+01]\n",
            "   [1.0550525e+02 9.1709351e+01 6.2724506e+01]]\n",
            "\n",
            "  ...\n",
            "\n",
            "  [[1.5800000e+02 1.8000000e+02 1.7800000e+02]\n",
            "   [1.5892857e+02 1.8092857e+02 1.7892857e+02]\n",
            "   [1.5783163e+02 1.7983163e+02 1.7783163e+02]\n",
            "   ...\n",
            "   [6.1571472e+01 3.6571472e+01 1.4571472e+01]\n",
            "   [5.9173500e+01 3.3173500e+01 1.0173498e+01]\n",
            "   [5.3081528e+01 2.7081528e+01 4.0815272e+00]]\n",
            "\n",
            "  [[1.5897449e+02 1.8097449e+02 1.7897449e+02]\n",
            "   [1.6092857e+02 1.8292857e+02 1.8092857e+02]\n",
            "   [1.6292856e+02 1.8492856e+02 1.8292856e+02]\n",
            "   ...\n",
            "   [6.5698990e+01 4.0698986e+01 1.8698988e+01]\n",
            "   [6.3862221e+01 3.7862221e+01 1.4862221e+01]\n",
            "   [5.8525486e+01 3.2525486e+01 9.5254869e+00]]\n",
            "\n",
            "  [[1.6071436e+02 1.8271436e+02 1.8071436e+02]\n",
            "   [1.6135718e+02 1.8335718e+02 1.8135718e+02]\n",
            "   [1.6092346e+02 1.8292346e+02 1.8092346e+02]\n",
            "   ...\n",
            "   [6.3000031e+01 3.8000031e+01 1.6000031e+01]\n",
            "   [6.3928558e+01 3.7928558e+01 1.4928558e+01]\n",
            "   [6.4127579e+01 3.8127575e+01 1.5127576e+01]]]], shape=(32, 224, 224, 3), dtype=float32) tf.Tensor(\n",
            "[[0. 0. 0. 0. 0. 0. 0. 0. 1. 0.]\n",
            " [0. 0. 0. 1. 0. 0. 0. 0. 0. 0.]\n",
            " [0. 0. 0. 1. 0. 0. 0. 0. 0. 0.]\n",
            " [0. 0. 0. 0. 0. 0. 1. 0. 0. 0.]\n",
            " [0. 0. 0. 1. 0. 0. 0. 0. 0. 0.]\n",
            " [0. 0. 0. 0. 0. 1. 0. 0. 0. 0.]\n",
            " [0. 0. 0. 0. 0. 0. 0. 0. 0. 1.]\n",
            " [1. 0. 0. 0. 0. 0. 0. 0. 0. 0.]\n",
            " [0. 0. 0. 0. 0. 1. 0. 0. 0. 0.]\n",
            " [0. 0. 0. 0. 1. 0. 0. 0. 0. 0.]\n",
            " [0. 0. 0. 0. 0. 0. 0. 0. 1. 0.]\n",
            " [0. 1. 0. 0. 0. 0. 0. 0. 0. 0.]\n",
            " [0. 0. 0. 0. 0. 1. 0. 0. 0. 0.]\n",
            " [0. 1. 0. 0. 0. 0. 0. 0. 0. 0.]\n",
            " [0. 0. 0. 0. 0. 0. 0. 0. 0. 1.]\n",
            " [0. 0. 0. 1. 0. 0. 0. 0. 0. 0.]\n",
            " [0. 0. 0. 0. 0. 1. 0. 0. 0. 0.]\n",
            " [0. 1. 0. 0. 0. 0. 0. 0. 0. 0.]\n",
            " [0. 0. 0. 0. 0. 0. 1. 0. 0. 0.]\n",
            " [0. 1. 0. 0. 0. 0. 0. 0. 0. 0.]\n",
            " [0. 0. 0. 0. 0. 0. 0. 1. 0. 0.]\n",
            " [0. 0. 0. 1. 0. 0. 0. 0. 0. 0.]\n",
            " [0. 0. 1. 0. 0. 0. 0. 0. 0. 0.]\n",
            " [0. 0. 0. 0. 0. 0. 0. 1. 0. 0.]\n",
            " [0. 0. 0. 0. 0. 1. 0. 0. 0. 0.]\n",
            " [0. 0. 0. 0. 0. 0. 0. 0. 1. 0.]\n",
            " [0. 0. 1. 0. 0. 0. 0. 0. 0. 0.]\n",
            " [0. 0. 0. 0. 0. 0. 1. 0. 0. 0.]\n",
            " [0. 0. 0. 0. 0. 0. 0. 1. 0. 0.]\n",
            " [0. 1. 0. 0. 0. 0. 0. 0. 0. 0.]\n",
            " [0. 0. 0. 0. 0. 0. 1. 0. 0. 0.]\n",
            " [0. 0. 0. 0. 0. 0. 0. 0. 0. 1.]], shape=(32, 10), dtype=float32)\n"
          ]
        }
      ]
    },
    {
      "cell_type": "code",
      "source": [],
      "metadata": {
        "id": "w4tMmQcl8TBu"
      },
      "execution_count": null,
      "outputs": []
    }
  ]
}